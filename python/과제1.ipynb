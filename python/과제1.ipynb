{
 "cells": [
  {
   "cell_type": "markdown",
   "metadata": {},
   "source": [
    "## 문제 1\n",
    "### 사작과 끝의 범위를 입력 받아서 입력 받은 범위 안에서 홀수를 출력하는 코드를 완성하라."
   ]
  },
  {
   "cell_type": "code",
   "execution_count": 6,
   "metadata": {},
   "outputs": [
    {
     "name": "stdout",
     "output_type": "stream",
     "text": [
      "1 11\n",
      "[1, 3, 5, 7, 9, 11]\n"
     ]
    }
   ],
   "source": [
    "start, end = map(int, input().split())\n",
    "\n",
    "result = [i for i in range(start, end+1) if i%2 != 0]\n",
    "print(result)"
   ]
  },
  {
   "cell_type": "markdown",
   "metadata": {},
   "source": [
    "## 문제 2\n",
    "### 한 자리 양의 정수 n을 입력 받아 n + nn + nnn을 계산하는 코드를 완성하라"
   ]
  },
  {
   "cell_type": "code",
   "execution_count": 7,
   "metadata": {},
   "outputs": [
    {
     "name": "stdout",
     "output_type": "stream",
     "text": [
      "6\n",
      "738\n"
     ]
    }
   ],
   "source": [
    "n = int(input())\n",
    "result = n + (10*n + n) + (100*n+10*n +n)\n",
    "print(result)"
   ]
  },
  {
   "cell_type": "markdown",
   "metadata": {},
   "source": [
    "## 문제3\n",
    "### N 개의 숫자를 입력 받아서 그 리스트 중 두 번째로 큰 수를 출력하는 코드를 완성하라."
   ]
  },
  {
   "cell_type": "code",
   "execution_count": null,
   "metadata": {},
   "outputs": [],
   "source": [
    "sorted_numbers = list(map(int, input().split()))\n",
    "sorted_numbers.sort()\n",
    "print(sorted_numbers[-2])"
   ]
  },
  {
   "cell_type": "markdown",
   "metadata": {},
   "source": [
    "## 문제 4\n",
    "### N개의 정수를 가진 리스트를 입력 받아서 중복된 정수를 제거하여 출력하는 코드를 완성하라.\n"
   ]
  },
  {
   "cell_type": "code",
   "execution_count": 1,
   "metadata": {},
   "outputs": [
    {
     "name": "stdout",
     "output_type": "stream",
     "text": [
      "1 5 4 5 4 5 4\n",
      "{1, 4, 5}\n"
     ]
    }
   ],
   "source": [
    "numbers = list(map(int, input().split()))\n",
    "independent_numbers = set(numbers) # 중복 제거\n",
    "print(independent_numbers)"
   ]
  },
  {
   "attachments": {},
   "cell_type": "markdown",
   "metadata": {},
   "source": [
    "## 문제 5\n",
    "### 문자열과 숫자가 혼합된 입력을 받아 정수와 문자의 개수를 계산하여 주는 코드를 완성하라."
   ]
  },
  {
   "cell_type": "code",
   "execution_count": 3,
   "metadata": {},
   "outputs": [
    {
     "name": "stdout",
     "output_type": "stream",
     "text": [
      "15 fd 54df 456 fd vc\n",
      "문자열 개수 :  4\n",
      "숫자 개수 :  2\n"
     ]
    }
   ],
   "source": [
    "mixed_input = list(input().split())\n",
    "string_count, number_count = 0, 0;\n",
    "\n",
    "for str in mixed_input:\n",
    "    if str.isdigit():\n",
    "        number_count+=1\n",
    "    else:\n",
    "        string_count+=1\n",
    "\n",
    "print(\"문자열 개수 : \", string_count)\n",
    "print(\"숫자 개수 : \", number_count)"
   ]
  },
  {
   "cell_type": "markdown",
   "metadata": {},
   "source": [
    "## 문제 6\n",
    "### 1부터 100까지의 숫자 중 3의 배수일 경우에는 ‘Fizz’를 출력하고 5의 배수일 경우에는 ‘Buzz’를 출력하고 3과 5의 공배수일 경우에는 ‘FizzBuzz’를 출력하는 코드를 완성하라."
   ]
  },
  {
   "cell_type": "code",
   "execution_count": 8,
   "metadata": {},
   "outputs": [
    {
     "name": "stdout",
     "output_type": "stream",
     "text": [
      "3 Fizz\n",
      "5 Buzz\n",
      "6 Fizz\n",
      "9 Fizz\n",
      "10 Buzz\n",
      "12 Fizz\n",
      "15 FizzBuzz\n",
      "18 Fizz\n",
      "20 Buzz\n",
      "21 Fizz\n",
      "24 Fizz\n",
      "25 Buzz\n",
      "27 Fizz\n",
      "30 FizzBuzz\n",
      "33 Fizz\n",
      "35 Buzz\n",
      "36 Fizz\n",
      "39 Fizz\n",
      "40 Buzz\n",
      "42 Fizz\n",
      "45 FizzBuzz\n",
      "48 Fizz\n",
      "50 Buzz\n",
      "51 Fizz\n",
      "54 Fizz\n",
      "55 Buzz\n",
      "57 Fizz\n",
      "60 FizzBuzz\n",
      "63 Fizz\n",
      "65 Buzz\n",
      "66 Fizz\n",
      "69 Fizz\n",
      "70 Buzz\n",
      "72 Fizz\n",
      "75 FizzBuzz\n",
      "78 Fizz\n",
      "80 Buzz\n",
      "81 Fizz\n",
      "84 Fizz\n",
      "85 Buzz\n",
      "87 Fizz\n",
      "90 FizzBuzz\n",
      "93 Fizz\n",
      "95 Buzz\n",
      "96 Fizz\n",
      "99 Fizz\n",
      "100 Buzz\n"
     ]
    }
   ],
   "source": [
    "for i in range(1, 101):\n",
    "    if i%3==0 and i%5==0:\n",
    "        print(i, 'FizzBuzz')\n",
    "    elif i%3==0:\n",
    "        print(i, 'Fizz')\n",
    "    elif i%5==0:\n",
    "        print(i,'Buzz')"
   ]
  },
  {
   "attachments": {},
   "cell_type": "markdown",
   "metadata": {},
   "source": [
    "## 문제 7\n",
    "### N값을 입력 받고 1부터 N까지의 곱을 출력하는 코드를 완성하라!"
   ]
  },
  {
   "cell_type": "code",
   "execution_count": 10,
   "metadata": {},
   "outputs": [
    {
     "name": "stdout",
     "output_type": "stream",
     "text": [
      "6\n",
      "6 까지의 곱 :  720\n"
     ]
    }
   ],
   "source": [
    "n = int(input())\n",
    "result = 1\n",
    "for i in range(1, n+1):\n",
    "    result*=i\n",
    "print(n, '까지의 곱 :',result)"
   ]
  },
  {
   "cell_type": "markdown",
   "metadata": {},
   "source": [
    "## 문제 8\n",
    "### 1000이하의 3 또는 5의 배수인 자연수들의 합을 구하는 코드를 완성하라."
   ]
  },
  {
   "cell_type": "code",
   "execution_count": 13,
   "metadata": {},
   "outputs": [
    {
     "name": "stdout",
     "output_type": "stream",
     "text": [
      "3 또는 5의 배수인 자연수의 합 : 234168\n"
     ]
    }
   ],
   "source": [
    "result = 0\n",
    "for i in range(1, 1001):\n",
    "    if i%3==0 or i%5==0:\n",
    "        result+=i\n",
    "print('3 또는 5의 배수인 자연수의 합 :', result)"
   ]
  },
  {
   "cell_type": "markdown",
   "metadata": {},
   "source": [
    "## 문제 9\n",
    "### N 줄인 삼각형을 출력하라. 단, 사용자로 부터 임의의 N을 입력 받는다. 아래는 N=3일 때의 출력 예시이다."
   ]
  },
  {
   "cell_type": "code",
   "execution_count": 19,
   "metadata": {},
   "outputs": [
    {
     "name": "stdout",
     "output_type": "stream",
     "text": [
      "5\n",
      "    *\n",
      "   ***\n",
      "  *****\n",
      " *******\n",
      "*********\n"
     ]
    }
   ],
   "source": [
    "height = int(input())\n",
    "for i in range(height):\n",
    "    for j in range(height-i-1):\n",
    "        print(' ', end='')\n",
    "    for j in range(2*i+1):\n",
    "        print('*', end='')\n",
    "    print()"
   ]
  },
  {
   "attachments": {},
   "cell_type": "markdown",
   "metadata": {},
   "source": [
    "## 문제 10\n",
    "### N줄인 역 삼각형을 출력하라. 아래는 N=3일 때의 출력 예시이다."
   ]
  },
  {
   "cell_type": "code",
   "execution_count": null,
   "metadata": {},
   "outputs": [],
   "source": [
    "height = int(input())\n",
    "for i in range(height+1, 0, -1):\n",
    "    for j in range(height-i):\n",
    "        print(' ', end='')\n",
    "    for j in range(2*i+1):\n",
    "        print('*', end='')\n",
    "    print()"
   ]
  },
  {
   "cell_type": "code",
   "execution_count": null,
   "metadata": {},
   "outputs": [],
   "source": []
  }
 ],
 "metadata": {
  "kernelspec": {
   "display_name": "Python 3",
   "language": "python",
   "name": "python3"
  }
 },
 "nbformat": 4,
 "nbformat_minor": 2
}
